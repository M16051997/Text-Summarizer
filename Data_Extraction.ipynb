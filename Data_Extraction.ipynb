{
 "cells": [
  {
   "cell_type": "code",
   "execution_count": 9,
   "metadata": {},
   "outputs": [
    {
     "data": {
      "text/html": [
       "<div>\n",
       "<style scoped>\n",
       "    .dataframe tbody tr th:only-of-type {\n",
       "        vertical-align: middle;\n",
       "    }\n",
       "\n",
       "    .dataframe tbody tr th {\n",
       "        vertical-align: top;\n",
       "    }\n",
       "\n",
       "    .dataframe thead th {\n",
       "        text-align: right;\n",
       "    }\n",
       "</style>\n",
       "<table border=\"1\" class=\"dataframe\">\n",
       "  <thead>\n",
       "    <tr style=\"text-align: right;\">\n",
       "      <th></th>\n",
       "      <th>id</th>\n",
       "      <th>url</th>\n",
       "      <th>title</th>\n",
       "      <th>summary</th>\n",
       "      <th>text</th>\n",
       "    </tr>\n",
       "  </thead>\n",
       "  <tbody>\n",
       "    <tr>\n",
       "      <th>0</th>\n",
       "      <td>global-37799397</td>\n",
       "      <td>https://www.bbc.com/tamil/global-37799397</td>\n",
       "      <td>பல ஆண்டுகளுக்குமுன் இங்கிலாந்தில் கண்டுபிடிக்க...</td>\n",
       "      <td>இங்கிலாந்தில் 10 ஆண்டுகளுக்கும் முன்னர் தெற்கு...</td>\n",
       "      <td>கோப்புப்படம் இந்த மூளை, குறிப்பிடத்தக்க அளவு ந...</td>\n",
       "    </tr>\n",
       "    <tr>\n",
       "      <th>1</th>\n",
       "      <td>global-38043600</td>\n",
       "      <td>https://www.bbc.com/tamil/global-38043600</td>\n",
       "      <td>பிரான்ஸ் அதிபர் வேட்பாளர் தேர்தலில் மக்கள் வாக...</td>\n",
       "      <td>பிரான்சின் அதிபர் வேட்பாளரை தேர்ந்தெடுக்க மத்த...</td>\n",
       "      <td>களத்தில் உள்ள முன்னாள் அதிபர் நிக்கோலாஸ் சர்கோ...</td>\n",
       "    </tr>\n",
       "    <tr>\n",
       "      <th>2</th>\n",
       "      <td>science-49620264</td>\n",
       "      <td>https://www.bbc.com/tamil/science-49620264</td>\n",
       "      <td>சந்திரயான் 2: ‘விக்ரம் லேண்டரில் என்ன கோளாறு ஏ...</td>\n",
       "      <td>சந்திரயான் - 2 திட்டத்தின் முக்கியப் பகுதியான ...</td>\n",
       "      <td>கேள்வி:விக்ரம் லேண்டருடனான தொடர்பு எப்படி துண்...</td>\n",
       "    </tr>\n",
       "    <tr>\n",
       "      <th>3</th>\n",
       "      <td>global-56191770</td>\n",
       "      <td>https://www.bbc.com/tamil/global-56191770</td>\n",
       "      <td>பைடன் அரசில் அமெரிக்க வாழ் இந்தியர்கள் நீரா டா...</td>\n",
       "      <td>பைடன் நிர்வாகத்தில் இணைய இருக்கும் நீரா டாண்டன...</td>\n",
       "      <td>பைடன் நிர்வாகத்தில் முக்கியமான பதவிகளை வகிக்க ...</td>\n",
       "    </tr>\n",
       "    <tr>\n",
       "      <th>4</th>\n",
       "      <td>global-39853514</td>\n",
       "      <td>https://www.bbc.com/tamil/global-39853514</td>\n",
       "      <td>ஃபிரான்ஸ் அதிபருடன் காதல் மலர்ந்தது எப்படி? மன...</td>\n",
       "      <td>யார் இந்த பிரிகெட்டி?</td>\n",
       "      <td>ஃபிரான்ஸ் நாட்டின் புதிய அதிபராக தேர்ந்தெடுக்க...</td>\n",
       "    </tr>\n",
       "  </tbody>\n",
       "</table>\n",
       "</div>"
      ],
      "text/plain": [
       "                 id                                         url  \\\n",
       "0   global-37799397   https://www.bbc.com/tamil/global-37799397   \n",
       "1   global-38043600   https://www.bbc.com/tamil/global-38043600   \n",
       "2  science-49620264  https://www.bbc.com/tamil/science-49620264   \n",
       "3   global-56191770   https://www.bbc.com/tamil/global-56191770   \n",
       "4   global-39853514   https://www.bbc.com/tamil/global-39853514   \n",
       "\n",
       "                                               title  \\\n",
       "0  பல ஆண்டுகளுக்குமுன் இங்கிலாந்தில் கண்டுபிடிக்க...   \n",
       "1  பிரான்ஸ் அதிபர் வேட்பாளர் தேர்தலில் மக்கள் வாக...   \n",
       "2  சந்திரயான் 2: ‘விக்ரம் லேண்டரில் என்ன கோளாறு ஏ...   \n",
       "3  பைடன் அரசில் அமெரிக்க வாழ் இந்தியர்கள் நீரா டா...   \n",
       "4  ஃபிரான்ஸ் அதிபருடன் காதல் மலர்ந்தது எப்படி? மன...   \n",
       "\n",
       "                                             summary  \\\n",
       "0  இங்கிலாந்தில் 10 ஆண்டுகளுக்கும் முன்னர் தெற்கு...   \n",
       "1  பிரான்சின் அதிபர் வேட்பாளரை தேர்ந்தெடுக்க மத்த...   \n",
       "2  சந்திரயான் - 2 திட்டத்தின் முக்கியப் பகுதியான ...   \n",
       "3  பைடன் நிர்வாகத்தில் இணைய இருக்கும் நீரா டாண்டன...   \n",
       "4                              யார் இந்த பிரிகெட்டி?   \n",
       "\n",
       "                                                text  \n",
       "0  கோப்புப்படம் இந்த மூளை, குறிப்பிடத்தக்க அளவு ந...  \n",
       "1  களத்தில் உள்ள முன்னாள் அதிபர் நிக்கோலாஸ் சர்கோ...  \n",
       "2  கேள்வி:விக்ரம் லேண்டருடனான தொடர்பு எப்படி துண்...  \n",
       "3  பைடன் நிர்வாகத்தில் முக்கியமான பதவிகளை வகிக்க ...  \n",
       "4  ஃபிரான்ஸ் நாட்டின் புதிய அதிபராக தேர்ந்தெடுக்க...  "
      ]
     },
     "execution_count": 9,
     "metadata": {},
     "output_type": "execute_result"
    }
   ],
   "source": [
    "import requests\n",
    "import pandas as pd\n",
    "\n",
    "url = \"https://datasets-server.huggingface.co/rows?dataset=csebuetnlp%2Fxlsum&config=tamil&split=train&offset=0\"\n",
    "\n",
    "response = requests.get(url)\n",
    "\n",
    "data = response.json()\n",
    "\n",
    "# Extract the \"rows\" data\n",
    "rows_data = data[\"rows\"]\n",
    "\n",
    "# Extract the \"row\" data for each entry\n",
    "row_data_list = [entry[\"row\"] for entry in rows_data]\n",
    "\n",
    "# Create a DataFrame from the extracted \"row\" data\n",
    "df = pd.DataFrame(row_data_list)\n",
    "\n",
    "# Now, you have a DataFrame containing the data inside each \"row\" within the \"rows\" column.\n",
    "df.head()\n"
   ]
  },
  {
   "cell_type": "code",
   "execution_count": 10,
   "metadata": {},
   "outputs": [
    {
     "data": {
      "text/plain": [
       "(100, 5)"
      ]
     },
     "execution_count": 10,
     "metadata": {},
     "output_type": "execute_result"
    }
   ],
   "source": [
    "df.shape"
   ]
  },
  {
   "cell_type": "code",
   "execution_count": 11,
   "metadata": {},
   "outputs": [
    {
     "name": "stderr",
     "output_type": "stream",
     "text": [
      "Downloading builder script: 100%|██████████| 4.55k/4.55k [00:00<?, ?B/s]\n",
      "Downloading readme: 100%|██████████| 14.6k/14.6k [00:00<00:00, 14.6MB/s]\n",
      "Downloading data: 100%|██████████| 21.9M/21.9M [00:02<00:00, 9.77MB/s]\n",
      "Generating train split: 16222 examples [00:02, 6285.90 examples/s]\n",
      "Generating test split: 2027 examples [00:00, 6363.05 examples/s]\n",
      "Generating validation split: 2027 examples [00:00, 6517.25 examples/s]\n"
     ]
    }
   ],
   "source": [
    "from datasets import load_dataset\n",
    "\n",
    "dataset = load_dataset(\"csebuetnlp/xlsum\", \"tamil\")"
   ]
  },
  {
   "cell_type": "code",
   "execution_count": 22,
   "metadata": {},
   "outputs": [],
   "source": [
    "# Access the train split\n",
    "train_dataset = dataset[\"train\"]\n",
    "\n",
    "# Convert train_dataset into a list of dictionaries\n",
    "data_l = []\n",
    "\n",
    "for item in train_dataset:\n",
    "    data_dict = {\n",
    "        \"id\": item[\"id\"],\n",
    "        \"url\": item[\"url\"],\n",
    "        \"title\": item[\"title\"],\n",
    "        \"summary\": item[\"summary\"],\n",
    "        \"text\": item[\"text\"]\n",
    "    }\n",
    "    data_l.append(data_dict)\n",
    "\n",
    "# Create a Pandas DataFrame\n",
    "Train_data = pd.DataFrame(data_l)\n"
   ]
  },
  {
   "cell_type": "code",
   "execution_count": 23,
   "metadata": {},
   "outputs": [],
   "source": [
    "# Access the train split\n",
    "test_dataset = dataset[\"test\"]\n",
    "\n",
    "# Convert train_dataset into a list of dictionaries\n",
    "data_li = []\n",
    "\n",
    "for item in test_dataset:\n",
    "    data_dict = {\n",
    "        \"id\": item[\"id\"],\n",
    "        \"url\": item[\"url\"],\n",
    "        \"title\": item[\"title\"],\n",
    "        \"summary\": item[\"summary\"],\n",
    "        \"text\": item[\"text\"]\n",
    "    }\n",
    "    data_li.append(data_dict)\n",
    "\n",
    "# Create a Pandas DataFrame\n",
    "Test_data = pd.DataFrame(data_li)\n"
   ]
  },
  {
   "cell_type": "code",
   "execution_count": 24,
   "metadata": {},
   "outputs": [],
   "source": [
    "# Access the train split\n",
    "validation_dataset = dataset[\"validation\"]\n",
    "\n",
    "# Convert train_dataset into a list of dictionaries\n",
    "data_list = []\n",
    "\n",
    "for item in validation_dataset:\n",
    "    data_dict = {\n",
    "        \"id\": item[\"id\"],\n",
    "        \"url\": item[\"url\"],\n",
    "        \"title\": item[\"title\"],\n",
    "        \"summary\": item[\"summary\"],\n",
    "        \"text\": item[\"text\"]\n",
    "    }\n",
    "    data_list.append(data_dict)\n",
    "\n",
    "# Create a Pandas DataFrame\n",
    "val_data = pd.DataFrame(data_list)\n"
   ]
  },
  {
   "cell_type": "code",
   "execution_count": 25,
   "metadata": {},
   "outputs": [
    {
     "data": {
      "text/plain": [
       "((2027, 5), (2027, 5), (16222, 5))"
      ]
     },
     "execution_count": 25,
     "metadata": {},
     "output_type": "execute_result"
    }
   ],
   "source": [
    "Test_data.shape, val_data.shape, Train_data.shape"
   ]
  },
  {
   "cell_type": "code",
   "execution_count": 26,
   "metadata": {},
   "outputs": [
    {
     "data": {
      "text/html": [
       "<div>\n",
       "<style scoped>\n",
       "    .dataframe tbody tr th:only-of-type {\n",
       "        vertical-align: middle;\n",
       "    }\n",
       "\n",
       "    .dataframe tbody tr th {\n",
       "        vertical-align: top;\n",
       "    }\n",
       "\n",
       "    .dataframe thead th {\n",
       "        text-align: right;\n",
       "    }\n",
       "</style>\n",
       "<table border=\"1\" class=\"dataframe\">\n",
       "  <thead>\n",
       "    <tr style=\"text-align: right;\">\n",
       "      <th></th>\n",
       "      <th>id</th>\n",
       "      <th>url</th>\n",
       "      <th>title</th>\n",
       "      <th>summary</th>\n",
       "      <th>text</th>\n",
       "    </tr>\n",
       "  </thead>\n",
       "  <tbody>\n",
       "    <tr>\n",
       "      <th>0</th>\n",
       "      <td>global-54137886</td>\n",
       "      <td>https://www.bbc.com/tamil/global-54137886</td>\n",
       "      <td>இஸ்ரேல் – பஹ்ரைனுக்கு இடையே உடன்படிக்கை - வரலா...</td>\n",
       "      <td>தங்களது இருதரப்பு உறவை சுமூகமாக்க இஸ்ரேலும் பஹ...</td>\n",
       "      <td>இதுகுறித்த அறிவிப்பை அமெரிக்க அதிபர் டொனால்ட் ...</td>\n",
       "    </tr>\n",
       "    <tr>\n",
       "      <th>1</th>\n",
       "      <td>arts-and-culture-49954137</td>\n",
       "      <td>https://www.bbc.com/tamil/arts-and-culture-499...</td>\n",
       "      <td>பிக் பாஸ் முகேன் ராவ் : மலேசியா டூ தமிழ்நாடு -...</td>\n",
       "      <td>மலேசியாவில் காவல்துறைப் பணியில் இருந்திருக்க வ...</td>\n",
       "      <td>பிக் பாஸ் சீசன் 3 வெற்றியாளராக மலேசியாவை சேர்ந...</td>\n",
       "    </tr>\n",
       "    <tr>\n",
       "      <th>2</th>\n",
       "      <td>india-43548016</td>\n",
       "      <td>https://www.bbc.com/tamil/india-43548016</td>\n",
       "      <td>தேனி நியூட்ரினோ திட்டம்: வனம் மற்றும் சுற்றுச்...</td>\n",
       "      <td>தேனி மாவட்டம் பொட்டிபுரம் கிராமத்திலுள்ள மலைப்...</td>\n",
       "      <td>இந்த திட்டம் செயற்படுத்தப்படும் இடத்திலுள்ள மக...</td>\n",
       "    </tr>\n",
       "    <tr>\n",
       "      <th>3</th>\n",
       "      <td>india-50987799</td>\n",
       "      <td>https://www.bbc.com/tamil/india-50987799</td>\n",
       "      <td>தலித், மாற்றுத் திறனாளி - 21 வயது தமிழ் மாணவிய...</td>\n",
       "      <td>தினக்கூலி வேலைக்கு செல்லும் பெற்றோர். சிறு வயத...</td>\n",
       "      <td>இவை அனைத்தையும் மீறி தமிழக உள்ளாட்சித் தேர்தலி...</td>\n",
       "    </tr>\n",
       "    <tr>\n",
       "      <th>4</th>\n",
       "      <td>global-53636286</td>\n",
       "      <td>https://www.bbc.com/tamil/global-53636286</td>\n",
       "      <td>கொரோனா வைரஸ் தொற்று: இரான் கூறியதைவிட மும்மடங்...</td>\n",
       "      <td>இரான் அரசு வெளியிட்ட தரவுகளை விட அங்கு கொரோனா ...</td>\n",
       "      <td>இரான் அரசைப் பொறுத்தவரை, ஜூலை 20ம் தேதி வரை 42...</td>\n",
       "    </tr>\n",
       "  </tbody>\n",
       "</table>\n",
       "</div>"
      ],
      "text/plain": [
       "                          id  \\\n",
       "0            global-54137886   \n",
       "1  arts-and-culture-49954137   \n",
       "2             india-43548016   \n",
       "3             india-50987799   \n",
       "4            global-53636286   \n",
       "\n",
       "                                                 url  \\\n",
       "0          https://www.bbc.com/tamil/global-54137886   \n",
       "1  https://www.bbc.com/tamil/arts-and-culture-499...   \n",
       "2           https://www.bbc.com/tamil/india-43548016   \n",
       "3           https://www.bbc.com/tamil/india-50987799   \n",
       "4          https://www.bbc.com/tamil/global-53636286   \n",
       "\n",
       "                                               title  \\\n",
       "0  இஸ்ரேல் – பஹ்ரைனுக்கு இடையே உடன்படிக்கை - வரலா...   \n",
       "1  பிக் பாஸ் முகேன் ராவ் : மலேசியா டூ தமிழ்நாடு -...   \n",
       "2  தேனி நியூட்ரினோ திட்டம்: வனம் மற்றும் சுற்றுச்...   \n",
       "3  தலித், மாற்றுத் திறனாளி - 21 வயது தமிழ் மாணவிய...   \n",
       "4  கொரோனா வைரஸ் தொற்று: இரான் கூறியதைவிட மும்மடங்...   \n",
       "\n",
       "                                             summary  \\\n",
       "0  தங்களது இருதரப்பு உறவை சுமூகமாக்க இஸ்ரேலும் பஹ...   \n",
       "1  மலேசியாவில் காவல்துறைப் பணியில் இருந்திருக்க வ...   \n",
       "2  தேனி மாவட்டம் பொட்டிபுரம் கிராமத்திலுள்ள மலைப்...   \n",
       "3  தினக்கூலி வேலைக்கு செல்லும் பெற்றோர். சிறு வயத...   \n",
       "4  இரான் அரசு வெளியிட்ட தரவுகளை விட அங்கு கொரோனா ...   \n",
       "\n",
       "                                                text  \n",
       "0  இதுகுறித்த அறிவிப்பை அமெரிக்க அதிபர் டொனால்ட் ...  \n",
       "1  பிக் பாஸ் சீசன் 3 வெற்றியாளராக மலேசியாவை சேர்ந...  \n",
       "2  இந்த திட்டம் செயற்படுத்தப்படும் இடத்திலுள்ள மக...  \n",
       "3  இவை அனைத்தையும் மீறி தமிழக உள்ளாட்சித் தேர்தலி...  \n",
       "4  இரான் அரசைப் பொறுத்தவரை, ஜூலை 20ம் தேதி வரை 42...  "
      ]
     },
     "execution_count": 26,
     "metadata": {},
     "output_type": "execute_result"
    }
   ],
   "source": [
    "Test_data.head()"
   ]
  },
  {
   "cell_type": "code",
   "execution_count": null,
   "metadata": {},
   "outputs": [],
   "source": [
    "import openpyxl\n",
    "\n",
    "df = pd.ExcelWriter(\"Train_data.xlsx\")\n",
    "Train_data.to_excel(df)\n",
    "df.book.save(\"Train_data.xlsx\")\n",
    "\n",
    "df1 = pd.ExcelWriter(\"Test_data.xlsx\")\n",
    "Test_data.to_excel(df1)\n",
    "df1.book.save(\"Test_data.xlsx\")\n",
    "\n",
    "df2 = pd.ExcelWriter(\"Validation_data.xlsx\")\n",
    "val_data.to_excel(df2)\n",
    "df2.book.save(\"Validation_data.xlsx\")"
   ]
  }
 ],
 "metadata": {
  "kernelspec": {
   "display_name": ".venv",
   "language": "python",
   "name": "python3"
  },
  "language_info": {
   "codemirror_mode": {
    "name": "ipython",
    "version": 3
   },
   "file_extension": ".py",
   "mimetype": "text/x-python",
   "name": "python",
   "nbconvert_exporter": "python",
   "pygments_lexer": "ipython3",
   "version": "3.10.0"
  }
 },
 "nbformat": 4,
 "nbformat_minor": 2
}
