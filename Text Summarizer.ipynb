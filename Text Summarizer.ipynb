{
 "cells": [
  {
   "cell_type": "code",
   "execution_count": 4,
   "metadata": {},
   "outputs": [
    {
     "data": {
      "text/html": [
       "<div>\n",
       "<style scoped>\n",
       "    .dataframe tbody tr th:only-of-type {\n",
       "        vertical-align: middle;\n",
       "    }\n",
       "\n",
       "    .dataframe tbody tr th {\n",
       "        vertical-align: top;\n",
       "    }\n",
       "\n",
       "    .dataframe thead th {\n",
       "        text-align: right;\n",
       "    }\n",
       "</style>\n",
       "<table border=\"1\" class=\"dataframe\">\n",
       "  <thead>\n",
       "    <tr style=\"text-align: right;\">\n",
       "      <th></th>\n",
       "      <th>Content</th>\n",
       "      <th>Headerkicker</th>\n",
       "      <th>Headerdeck</th>\n",
       "      <th>Headers</th>\n",
       "    </tr>\n",
       "  </thead>\n",
       "  <tbody>\n",
       "    <tr>\n",
       "      <th>0</th>\n",
       "      <td>பூண்டி ஏரியில் செல்பி எடுத்தபோது படகு கவிழ்ந்த...</td>\n",
       "      <td>பூண்டி ஏரியில் செல்பி எடுத்தபோது</td>\n",
       "      <td>argument should be a bytes-like object or ASCI...</td>\n",
       "      <td>படகு கவிழ்ந்து நீரில் தத்தளித்த 3 இளைஞர்கள் மீ...</td>\n",
       "    </tr>\n",
       "    <tr>\n",
       "      <th>1</th>\n",
       "      <td>Test_12-12-2020_A</td>\n",
       "      <td>Test_12-12-2020_A</td>\n",
       "      <td>Test_12-12-2020_A</td>\n",
       "      <td>Test_12-12-2020_A</td>\n",
       "    </tr>\n",
       "    <tr>\n",
       "      <th>2</th>\n",
       "      <td>கோவையில் இருந்து மேட்டுப்பாளையம் செல்லும் சால...</td>\n",
       "      <td>கோவை-மேட்டுப்பாளையம் சாலையில்</td>\n",
       "      <td>argument should be a bytes-like object or ASCI...</td>\n",
       "      <td>கட்டுப்பாடின்றி சுற்றித் திரியும் குதிரைகளால் ...</td>\n",
       "    </tr>\n",
       "    <tr>\n",
       "      <th>3</th>\n",
       "      <td>புதுச்சேரியில் நேற்று புதிதாக 36 பேர் கரோனா தொ...</td>\n",
       "      <td>argument should be a bytes-like object or ASCI...</td>\n",
       "      <td>ஆளுநர் கிரண்பேடிக்கு தொற்று இல்லை</td>\n",
       "      <td>புதுச்சேரியில் புதிதாக 36 பேருக்கு கரோனா</td>\n",
       "    </tr>\n",
       "    <tr>\n",
       "      <th>4</th>\n",
       "      <td>கோவை மாவட்டத்தில் நேற்று பரவலாக மழை பெய்த நிலை...</td>\n",
       "      <td>argument should be a bytes-like object or ASCI...</td>\n",
       "      <td>மக்களின் இயல்பு வாழ்க்கை பாதிப்பு</td>\n",
       "      <td>கோவை மாவட்டத்தில் பரவலாக மழை</td>\n",
       "    </tr>\n",
       "  </tbody>\n",
       "</table>\n",
       "</div>"
      ],
      "text/plain": [
       "                                             Content  \\\n",
       "0  பூண்டி ஏரியில் செல்பி எடுத்தபோது படகு கவிழ்ந்த...   \n",
       "1                                  Test_12-12-2020_A   \n",
       "2  கோவையில் இருந்து மேட்டுப்பாளையம் செல்லும் சால...   \n",
       "3  புதுச்சேரியில் நேற்று புதிதாக 36 பேர் கரோனா தொ...   \n",
       "4  கோவை மாவட்டத்தில் நேற்று பரவலாக மழை பெய்த நிலை...   \n",
       "\n",
       "                                        Headerkicker  \\\n",
       "0                   பூண்டி ஏரியில் செல்பி எடுத்தபோது   \n",
       "1                                  Test_12-12-2020_A   \n",
       "2                     கோவை-மேட்டுப்பாளையம் சாலையில்   \n",
       "3  argument should be a bytes-like object or ASCI...   \n",
       "4  argument should be a bytes-like object or ASCI...   \n",
       "\n",
       "                                          Headerdeck  \\\n",
       "0  argument should be a bytes-like object or ASCI...   \n",
       "1                                  Test_12-12-2020_A   \n",
       "2  argument should be a bytes-like object or ASCI...   \n",
       "3                  ஆளுநர் கிரண்பேடிக்கு தொற்று இல்லை   \n",
       "4                  மக்களின் இயல்பு வாழ்க்கை பாதிப்பு   \n",
       "\n",
       "                                             Headers  \n",
       "0  படகு கவிழ்ந்து நீரில் தத்தளித்த 3 இளைஞர்கள் மீ...  \n",
       "1                                  Test_12-12-2020_A  \n",
       "2  கட்டுப்பாடின்றி சுற்றித் திரியும் குதிரைகளால் ...  \n",
       "3          புதுச்சேரியில் புதிதாக 36 பேருக்கு கரோனா   \n",
       "4                      கோவை மாவட்டத்தில் பரவலாக மழை   "
      ]
     },
     "execution_count": 4,
     "metadata": {},
     "output_type": "execute_result"
    }
   ],
   "source": [
    "import pandas as pd\n",
    "import base64\n",
    "import numpy as np\n",
    "\n",
    "df = pd.read_excel(r\"C:\\Users\\50510\\Desktop\\Hindu_articles.xlsx\")\n",
    "df.head()"
   ]
  },
  {
   "cell_type": "code",
   "execution_count": 5,
   "metadata": {},
   "outputs": [],
   "source": [
    "df = df[['Headers', 'Content']]\n",
    "df['Sumarizer'] = df['Headers'] + df['Content']"
   ]
  },
  {
   "cell_type": "code",
   "execution_count": 4,
   "metadata": {},
   "outputs": [
    {
     "name": "stderr",
     "output_type": "stream",
     "text": [
      "f:\\Text Summarizer\\.venv\\lib\\site-packages\\tqdm\\auto.py:21: TqdmWarning: IProgress not found. Please update jupyter and ipywidgets. See https://ipywidgets.readthedocs.io/en/stable/user_install.html\n",
      "  from .autonotebook import tqdm as notebook_tqdm\n",
      "You are using the default legacy behaviour of the <class 'transformers.models.t5.tokenization_t5.T5Tokenizer'>. If you see this, DO NOT PANIC! This is expected, and simply means that the `legacy` (previous) behavior will be used so nothing changes for you. If you want to use the new behaviour, set `legacy=False`. This should only be set if you understand what it means, and thouroughly read the reason why this was added as explained in https://github.com/huggingface/transformers/pull/24565\n",
      "f:\\Text Summarizer\\.venv\\lib\\site-packages\\transformers\\convert_slow_tokenizer.py:473: UserWarning: The sentencepiece tokenizer that you are converting to a fast tokenizer uses the byte fallback option which is not implemented in the fast tokenizers. In practice this means that the fast version of the tokenizer can produce unknown tokens whereas the sentencepiece version would have converted these unknown tokens into a sequence of byte tokens matching the original piece of text.\n",
      "  warnings.warn(\n"
     ]
    }
   ],
   "source": [
    "# Load model directly\n",
    "import re\n",
    "import transformers\n",
    "from transformers import AutoTokenizer, AutoModelForSeq2SeqLM\n",
    "\n",
    "tokenizer = AutoTokenizer.from_pretrained(\"csebuetnlp/mT5_multilingual_XLSum\")\n",
    "model = AutoModelForSeq2SeqLM.from_pretrained(\"csebuetnlp/mT5_multilingual_XLSum\")"
   ]
  },
  {
   "cell_type": "code",
   "execution_count": 2,
   "metadata": {},
   "outputs": [
    {
     "data": {
      "text/plain": [
       "'விஜய் முதல் விஜயகாந்த் வரை - சினிமாவை அலங்கரித்த ஆசிரியர்கள் கற்றுக்கொடுத்தது என்ன?\\n\\nஆசிரியர்கள் தினம் இன்று கொண்டாடப்படுகிறது. இந்நிலையில் திரையுலகில் ஆசிரியர் கதாபாத்திரங்கள் ஏற்படுத்திய தாக்கங்கள் குறித்து விரிவாக பார்ப்போம்.\\n\\nநம்மவர்: 1994-ல் வெளியான இப்படத்தில் வி.சி.செல்வம் என்ற ஆசிரியர் கதாபாத்திரத்தில் கமல் நடித்திருந்தார். உண்மையில் இப்படியான ஒரு ஆசிரியர் நமக்கும் இருந்தால் நன்றாக இருக்குமே என யோசிக்கும் அளவுக்கான ஒரு புரொஃபசர். அவரை எதிர்க்கும் மாணவனைக்கூட நேர்வழிப்படுத்த முயலும் வி.சி.செல்வம் தேர்ந்த ஆசிரியருக்கான அடையாளமாக இன்றளவும் திகழ்கிறார்.\\n\\nநண்பன்: 2012-ம் ஆண்டு விஜய் நடிப்பில் வெளியான இந்தப் படம் கல்விச் சீர்திருத்ததை பேசியது. வெறும் மனப்பாடமாக மட்டுமே இல்லாமல் புரிந்து வாசிக்க வேண்டிய தேவையை படம் உணர்த்தியது. இதில் விருமாண்டி சந்தானம் (எ) வைரஸ் கதாபாத்திரத்தில் சத்யராஜ் நடித்திருப்பார். கட்டுகோப்பான ஒழுக்கமான ஆசிரியர். ‘லைஃப் இஸ் ஏ ரேஸ்..ரன் ரன் ரன்’ என ஓடிக்கொண்டே இருக்க வேண்டும். முதலில் வருபவர்களை மட்டுமே இந்த உலகம் நினைவில் வைத்துக்கொள்ளும் என்ற மனப்பான்மை கொண்டவர். இந்த நிலையிலிருக்கும் அந்த கதாபாத்திரம் இறுதியில் கற்றலுக்கான தேவையின் மாறுபாடுகளை உணர்ந்துகொள்ளும். தேர்ந்த நடிப்பில் மிரட்டியிருப்பார்.\\n\\nமாஸ்டர்: ஜே.டியை உங்களில் யாராலும் மறக்க முடியாது. பெண்களுக்கான உடை சுதந்திரம் முதல் அவர்கள் அதிகாரம் பெற வேண்டியது வரை முற்போக்கு கதாபாத்திரத்தில் விஜய் அதகளம் செய்திருப்பார். மது அருந்தி வகுப்புக்கு வரும் ஆசிரியர் என்பது மட்டும் நெருடலைக்கொடுத்தாலும், மாணவர்களிடம் அவரது அணுகுமுறை மற்ற ஆசிரியர்களிடமிருந்து வித்தியாசபட்டிருக்கும். சொல்லப்போனால் ‘நம்மவர்’ கமல் கதாபாத்திரத்தின் மறு ஆக்கம் தான் ‘ஜேடி’.\\n\\nவெயிலில் ஏற்படும் உப்பு சத்து குறைபாட்டை எப்படி நிவர்த்தி செய்யலாம் | Dr.Deepa | HTT\\nhindutamil\\nரமணா: 2002-ல் வெளியான இப்படத்தில் ரமணா என்ற விஜயகாந்த் கதாபாத்திரம் ஒரு ஆசிரியர் அரசியல் தளத்திலும் இயக்கவேண்டியது குறித்து பேசியது. ரமணாவை பொறுத்தவரை அவர் மாணவர்களுக்கு வெறுமனே பாடங்களை சொல்லிக்கொடுப்பவராக மட்டுமல்லாமல் வகுப்பறை எல்லையைத் தாண்டி மாணவர்களின் அறிவு விரிவடைய வேண்டியதை வலியுறுத்தியவர். அரசியல் தளத்தில் சமூகத்தின் மீதான அக்கறையை வெளிப்படுத்த வேண்டியதை சொல்லிக்கொடுத்தார்.\\n\\nராட்சசி: 2019-ம் ஆண்டு ஜோதிகா நடித்தில் வெளியான இப்படத்தில் கீதா ராணி ஆசிரியர் கதாபாத்திரத்தில் அவர் நடித்திருப்பார். அரசுப்பள்ளிகளின் தரத்தை உயர்த்த வேண்டும் என்பதை வலியுறுத்தும் கதையில், அரசு ஆசியர்களுக்கு முன்மாதிரியான கதாபாத்திரம் கீதா ராணி உடையது. மாணவர்களுக்களிடையே நெகிழ்வுத்தன்மை வேண்டும் என்பதையும் அழுத்தமாக சொல்லும் கதாபாத்திரம்.\\n\\nசாட்டை: தயாளன். மாணவர்களை அவர்கள் இடத்தில் நின்று புரிந்துகொள்ளும் ஆசிரியர். ‘பசங்கனா அப்டி தான் இருப்பாங்க’ என நம்புபவர். மாணவர்களின் நலனில் அக்கறை கொண்டிருக்கும் தயாளன் அதீத அறிவுரைகள் மூலம் வழிநடத்தக்கூடியவர். சமுத்திரகனி ஏற்றிருந்த இந்தக் கதாபாத்திரம் அவருக்கான பெரும் அடையாளத்தை தேடிதந்தது.\\n\\nபேராண்மை: ஜெயம்ரவியின் ‘துருவன்’ கதாபாத்திரத்தை அவ்வளவு எளிதாக மறக்க முடியாத அளவுக்கு வடிவமைத்திருப்பார் இயக்குநர் எஸ்.பி.ஜனநாதன். கல்லூரியில் மாணவர்களிடையே ‘அரசியல் பொருளாதாரம்’ குறித்து துருவன் விளக்கும் காட்சி அழுத்தமாக எழுதப்பட்டிருக்கும். தன்னை மாணவர்கள் இகழ்ந்த போதிலும் அவர்களுக்கு தேவையான போதனையையும், கல்வியையும் கற்றுக்கொடுப்பதில் ஒருபோதும் சோர்ந்துவிடமாட்டார். ஒரு ஆசிரியரின் கடமையை எந்த சமரசமும் இல்லாமல் பதிவு செய்திருக்கும் துருவன் கதாபாத்திரம் முக்கியமானது மட்டுமல்லாமல் முன்னுதாரணமானதும் கூட.'"
      ]
     },
     "execution_count": 2,
     "metadata": {},
     "output_type": "execute_result"
    }
   ],
   "source": [
    "article_text = \"\"\" விஜய் முதல் விஜயகாந்த் வரை - சினிமாவை அலங்கரித்த ஆசிரியர்கள் கற்றுக்கொடுத்தது என்ன?\n",
    "\n",
    "ஆசிரியர்கள் தினம் இன்று கொண்டாடப்படுகிறது. இந்நிலையில் திரையுலகில் ஆசிரியர் கதாபாத்திரங்கள் ஏற்படுத்திய தாக்கங்கள் குறித்து விரிவாக பார்ப்போம்.\n",
    "\n",
    "நம்மவர்: 1994-ல் வெளியான இப்படத்தில் வி.சி.செல்வம் என்ற ஆசிரியர் கதாபாத்திரத்தில் கமல் நடித்திருந்தார். உண்மையில் இப்படியான ஒரு ஆசிரியர் நமக்கும் இருந்தால் நன்றாக இருக்குமே என யோசிக்கும் அளவுக்கான ஒரு புரொஃபசர். அவரை எதிர்க்கும் மாணவனைக்கூட நேர்வழிப்படுத்த முயலும் வி.சி.செல்வம் தேர்ந்த ஆசிரியருக்கான அடையாளமாக இன்றளவும் திகழ்கிறார்.\n",
    "\n",
    "நண்பன்: 2012-ம் ஆண்டு விஜய் நடிப்பில் வெளியான இந்தப் படம் கல்விச் சீர்திருத்ததை பேசியது. வெறும் மனப்பாடமாக மட்டுமே இல்லாமல் புரிந்து வாசிக்க வேண்டிய தேவையை படம் உணர்த்தியது. இதில் விருமாண்டி சந்தானம் (எ) வைரஸ் கதாபாத்திரத்தில் சத்யராஜ் நடித்திருப்பார். கட்டுகோப்பான ஒழுக்கமான ஆசிரியர். ‘லைஃப் இஸ் ஏ ரேஸ்..ரன் ரன் ரன்’ என ஓடிக்கொண்டே இருக்க வேண்டும். முதலில் வருபவர்களை மட்டுமே இந்த உலகம் நினைவில் வைத்துக்கொள்ளும் என்ற மனப்பான்மை கொண்டவர். இந்த நிலையிலிருக்கும் அந்த கதாபாத்திரம் இறுதியில் கற்றலுக்கான தேவையின் மாறுபாடுகளை உணர்ந்துகொள்ளும். தேர்ந்த நடிப்பில் மிரட்டியிருப்பார்.\n",
    "\n",
    "மாஸ்டர்: ஜே.டியை உங்களில் யாராலும் மறக்க முடியாது. பெண்களுக்கான உடை சுதந்திரம் முதல் அவர்கள் அதிகாரம் பெற வேண்டியது வரை முற்போக்கு கதாபாத்திரத்தில் விஜய் அதகளம் செய்திருப்பார். மது அருந்தி வகுப்புக்கு வரும் ஆசிரியர் என்பது மட்டும் நெருடலைக்கொடுத்தாலும், மாணவர்களிடம் அவரது அணுகுமுறை மற்ற ஆசிரியர்களிடமிருந்து வித்தியாசபட்டிருக்கும். சொல்லப்போனால் ‘நம்மவர்’ கமல் கதாபாத்திரத்தின் மறு ஆக்கம் தான் ‘ஜேடி’.\n",
    "\n",
    "வெயிலில் ஏற்படும் உப்பு சத்து குறைபாட்டை எப்படி நிவர்த்தி செய்யலாம் | Dr.Deepa | HTT\n",
    "hindutamil\n",
    "ரமணா: 2002-ல் வெளியான இப்படத்தில் ரமணா என்ற விஜயகாந்த் கதாபாத்திரம் ஒரு ஆசிரியர் அரசியல் தளத்திலும் இயக்கவேண்டியது குறித்து பேசியது. ரமணாவை பொறுத்தவரை அவர் மாணவர்களுக்கு வெறுமனே பாடங்களை சொல்லிக்கொடுப்பவராக மட்டுமல்லாமல் வகுப்பறை எல்லையைத் தாண்டி மாணவர்களின் அறிவு விரிவடைய வேண்டியதை வலியுறுத்தியவர். அரசியல் தளத்தில் சமூகத்தின் மீதான அக்கறையை வெளிப்படுத்த வேண்டியதை சொல்லிக்கொடுத்தார்.\n",
    "\n",
    "ராட்சசி: 2019-ம் ஆண்டு ஜோதிகா நடித்தில் வெளியான இப்படத்தில் கீதா ராணி ஆசிரியர் கதாபாத்திரத்தில் அவர் நடித்திருப்பார். அரசுப்பள்ளிகளின் தரத்தை உயர்த்த வேண்டும் என்பதை வலியுறுத்தும் கதையில், அரசு ஆசியர்களுக்கு முன்மாதிரியான கதாபாத்திரம் கீதா ராணி உடையது. மாணவர்களுக்களிடையே நெகிழ்வுத்தன்மை வேண்டும் என்பதையும் அழுத்தமாக சொல்லும் கதாபாத்திரம்.\n",
    "\n",
    "சாட்டை: தயாளன். மாணவர்களை அவர்கள் இடத்தில் நின்று புரிந்துகொள்ளும் ஆசிரியர். ‘பசங்கனா அப்டி தான் இருப்பாங்க’ என நம்புபவர். மாணவர்களின் நலனில் அக்கறை கொண்டிருக்கும் தயாளன் அதீத அறிவுரைகள் மூலம் வழிநடத்தக்கூடியவர். சமுத்திரகனி ஏற்றிருந்த இந்தக் கதாபாத்திரம் அவருக்கான பெரும் அடையாளத்தை தேடிதந்தது.\n",
    "\n",
    "பேராண்மை: ஜெயம்ரவியின் ‘துருவன்’ கதாபாத்திரத்தை அவ்வளவு எளிதாக மறக்க முடியாத அளவுக்கு வடிவமைத்திருப்பார் இயக்குநர் எஸ்.பி.ஜனநாதன். கல்லூரியில் மாணவர்களிடையே ‘அரசியல் பொருளாதாரம்’ குறித்து துருவன் விளக்கும் காட்சி அழுத்தமாக எழுதப்பட்டிருக்கும். தன்னை மாணவர்கள் இகழ்ந்த போதிலும் அவர்களுக்கு தேவையான போதனையையும், கல்வியையும் கற்றுக்கொடுப்பதில் ஒருபோதும் சோர்ந்துவிடமாட்டார். ஒரு ஆசிரியரின் கடமையை எந்த சமரசமும் இல்லாமல் பதிவு செய்திருக்கும் துருவன் கதாபாத்திரம் முக்கியமானது மட்டுமல்லாமல் முன்னுதாரணமானதும் கூட.\n",
    " \"\"\"\n",
    "\n",
    "article_text = article_text.strip()\n",
    "article_text"
   ]
  },
  {
   "cell_type": "code",
   "execution_count": 3,
   "metadata": {},
   "outputs": [
    {
     "name": "stdout",
     "output_type": "stream",
     "text": [
      "ஆசிரியர் கதாபாத்திரங்கள் சினிமாவை அலங்கரித்தது என்ன?\n"
     ]
    }
   ],
   "source": [
    "import re\n",
    "\n",
    "WHITESPACE_HANDLER = lambda k: re.sub('\\s+', ' ', re.sub('\\n+', ' ', k.strip()))\n",
    "\n",
    "\n",
    "input_ids = tokenizer(\n",
    "    [WHITESPACE_HANDLER(article_text)],\n",
    "    return_tensors=\"pt\",\n",
    "    padding=\"max_length\",\n",
    "    truncation=True,\n",
    "    max_length=5000\n",
    ")[\"input_ids\"]\n",
    "\n",
    "output_ids = model.generate(\n",
    "    input_ids=input_ids,\n",
    "    max_length=5000,\n",
    "    no_repeat_ngram_size=14,\n",
    "    num_beams=16\n",
    ")[0]\n",
    "\n",
    "summary = tokenizer.decode(\n",
    "    output_ids,\n",
    "    skip_special_tokens=True,\n",
    "    clean_up_tokenization_spaces=False\n",
    ")\n",
    "\n",
    "print(summary)\n"
   ]
  },
  {
   "cell_type": "code",
   "execution_count": null,
   "metadata": {},
   "outputs": [],
   "source": []
  },
  {
   "cell_type": "code",
   "execution_count": 32,
   "metadata": {},
   "outputs": [
    {
     "data": {
      "text/plain": [
       "143"
      ]
     },
     "execution_count": 32,
     "metadata": {},
     "output_type": "execute_result"
    }
   ],
   "source": [
    "len(\"கோவை மாவட்டம் மேட்டுப்பாளையம் சாலையில் கட்டுப்பாடின்றி குதிரைகள் சுற்றித் திரிவதால் விபத்து ஏற்படுவதாக சமூக ஆர்வலர்கள் புகார் தெரிவித்துள்ளனர்.\")"
   ]
  },
  {
   "cell_type": "code",
   "execution_count": 7,
   "metadata": {},
   "outputs": [],
   "source": [
    "def text_summarizer(text):\n",
    "    WHITESPACE_HANDLER = lambda k: re.sub('\\s+', ' ', re.sub('\\n+', ' ', k.strip()))\n",
    "    input_ids = tokenizer(\n",
    "    [WHITESPACE_HANDLER(text)],\n",
    "    return_tensors=\"pt\",\n",
    "    padding=\"max_length\",\n",
    "    truncation=True,\n",
    "    max_length=5000\n",
    "    )[\"input_ids\"]\n",
    "\n",
    "    output_ids = model.generate(\n",
    "        input_ids=input_ids,\n",
    "        max_length=5000,\n",
    "        no_repeat_ngram_size=4,\n",
    "        num_beams=4 )[0]\n",
    "\n",
    "    summary = tokenizer.decode(\n",
    "        output_ids,\n",
    "        skip_special_tokens=True,\n",
    "        clean_up_tokenization_spaces=False )\n",
    "    \n",
    "    return summary"
   ]
  },
  {
   "cell_type": "code",
   "execution_count": 8,
   "metadata": {},
   "outputs": [],
   "source": [
    "test = \"\"\" இஸ்ரேல் மீது ஹமாஸ் பயங்கரவாதிகள் திடீர் தாக்குதல் நடத்தியதை அடுத்து, இஸ்ரேல் பதிலடி கொடுத்து வருகிறது. இரு தரப்புக்கும் இடையே மோதல் தொடங்கி 4 நாட்கள் முடிந்து 5வது நாளை எட்டி உள்ளது. இந்நிலையில், இஸ்ரேல் நடத்தி வரும் தாக்குதல் குறித்து அதன் ராணுவ செய்தித் தொடர்பாளர் ஜோனாதன் கான்ரிகஸ் வீடியோ வெளியிட்டுள்ளார். அதில் அவர் கூறி இருப்பதாவது: \"ஹமாஸ் பயங்கரவாதிகள் நடத்திய தாக்குதலில் உயிரிழந்த இஸ்ரேலியர்களின் எண்ணிக்கை 1,200 ஆக அதிகரித்துள்ளது. தொடக்கத்தில் 700 என்றும், 900 என்றும் இருந்தது. தற்போது இந்த எண்ணிக்கை 1,200 ஆக உயர்ந்துள்ளது. இது இறுதி எண் கிடையாது. ஏனெனில், இறந்தவர்கள் குறித்த விவரங்களை சேகரிக்கும் பணி தொடர்ந்து நடைபெற்று வருகிறது. ஹமாஸ் பயங்கரவாதிகள் நடத்திய தாக்குதலில் 2,700க்கும் அதிகமான இஸ்ரேலியர்கள் காயமடைந்துள்ளனர்.\n",
    "காசாவைச் சேர்ந்தவர்கள் இஸ்ரேலின் பல்வேறு நகரங்களில் பணியாற்றுவார்கள். அவர்களிடம் இஸ்ரேலிய மக்கள் அன்பாக நடந்து கொள்வார்கள். ஹமாஸ் பயங்கரவாதிகளின் இந்த தாக்குதலால் காசா எல்லையைச் சுற்றி பாதுகாப்பை பலப்படுத்தி உள்ளோம். காசா எல்லையை சுற்றிலும் இஸ்ரேலிய படைகள் குவிக்கப்பட்டு பாதுகாப்பு பலப்படுத்தப்பட்டுள்ளது. ஊடுருவல் நிகழாதவாறு தடுக்கப்பட்டுள்ளது. இஸ்ரேலின் பாதுகாப்புப் பணியில் மூன்று லட்சம் வீரர்கள் இணைந்துள்ளனர். \"\"\""
   ]
  },
  {
   "cell_type": "code",
   "execution_count": 2,
   "metadata": {},
   "outputs": [
    {
     "data": {
      "text/plain": [
       "1155"
      ]
     },
     "execution_count": 2,
     "metadata": {},
     "output_type": "execute_result"
    }
   ],
   "source": [
    "len(test)"
   ]
  },
  {
   "cell_type": "code",
   "execution_count": 9,
   "metadata": {},
   "outputs": [
    {
     "data": {
      "text/plain": [
       "'இஸ்ரேல் மற்றும் காசா இடையே நடைபெற்று வரும் மோதல்களில் உயிரிழந்தவர்களின் எண்ணிக்கை 1,200 ஆக அதிகரித்துள்ளது.'"
      ]
     },
     "execution_count": 9,
     "metadata": {},
     "output_type": "execute_result"
    }
   ],
   "source": [
    "text_summarizer(test)"
   ]
  },
  {
   "cell_type": "code",
   "execution_count": 18,
   "metadata": {},
   "outputs": [
    {
     "data": {
      "text/plain": [
       "(                                           Sumarizer\n",
       " 0  படகு கவிழ்ந்து நீரில் தத்தளித்த 3 இளைஞர்கள் மீ...\n",
       " 1                 Test_12-12-2020_ATest_12-12-2020_A\n",
       " 2  கட்டுப்பாடின்றி சுற்றித் திரியும் குதிரைகளால் ...\n",
       " 3  புதுச்சேரியில் புதிதாக 36 பேருக்கு கரோனா புதுச...\n",
       " 4  கோவை மாவட்டத்தில் பரவலாக மழை கோவை மாவட்டத்தில்...,\n",
       " (100, 1))"
      ]
     },
     "execution_count": 18,
     "metadata": {},
     "output_type": "execute_result"
    }
   ],
   "source": [
    "top_50 = df[['Sumarizer']][0:100]\n",
    "top_50.head(), top_50.shape"
   ]
  },
  {
   "cell_type": "code",
   "execution_count": 19,
   "metadata": {},
   "outputs": [
    {
     "name": "stdout",
     "output_type": "stream",
     "text": [
      "<class 'pandas.core.frame.DataFrame'>\n",
      "RangeIndex: 100 entries, 0 to 99\n",
      "Data columns (total 1 columns):\n",
      " #   Column     Non-Null Count  Dtype \n",
      "---  ------     --------------  ----- \n",
      " 0   Sumarizer  100 non-null    object\n",
      "dtypes: object(1)\n",
      "memory usage: 928.0+ bytes\n"
     ]
    }
   ],
   "source": [
    "top_50.info()"
   ]
  },
  {
   "cell_type": "code",
   "execution_count": 20,
   "metadata": {},
   "outputs": [],
   "source": [
    "top_50['Sumarizer'] = top_50['Sumarizer'].str.strip()"
   ]
  },
  {
   "cell_type": "code",
   "execution_count": 21,
   "metadata": {},
   "outputs": [],
   "source": [
    "top_50['Sumarizer'] = top_50['Sumarizer'].astype('str')"
   ]
  },
  {
   "cell_type": "code",
   "execution_count": 22,
   "metadata": {},
   "outputs": [],
   "source": [
    "top_50['Summarized tamil Text'] = top_50['Sumarizer'].apply(lambda x: text_summarizer(x))"
   ]
  },
  {
   "cell_type": "code",
   "execution_count": 23,
   "metadata": {},
   "outputs": [
    {
     "data": {
      "text/html": [
       "<div>\n",
       "<style scoped>\n",
       "    .dataframe tbody tr th:only-of-type {\n",
       "        vertical-align: middle;\n",
       "    }\n",
       "\n",
       "    .dataframe tbody tr th {\n",
       "        vertical-align: top;\n",
       "    }\n",
       "\n",
       "    .dataframe thead th {\n",
       "        text-align: right;\n",
       "    }\n",
       "</style>\n",
       "<table border=\"1\" class=\"dataframe\">\n",
       "  <thead>\n",
       "    <tr style=\"text-align: right;\">\n",
       "      <th></th>\n",
       "      <th>Sumarizer</th>\n",
       "      <th>Summarized tamil Text</th>\n",
       "    </tr>\n",
       "  </thead>\n",
       "  <tbody>\n",
       "    <tr>\n",
       "      <th>0</th>\n",
       "      <td>படகு கவிழ்ந்து நீரில் தத்தளித்த 3 இளைஞர்கள் மீ...</td>\n",
       "      <td>திருவள்ளூர் அருகே உள்ள பூண்டி ஏரியில் செல்பி எ...</td>\n",
       "    </tr>\n",
       "    <tr>\n",
       "      <th>1</th>\n",
       "      <td>Test_12-12-2020_ATest_12-12-2020_A</td>\n",
       "      <td>A t est n e g i s u r a</td>\n",
       "    </tr>\n",
       "    <tr>\n",
       "      <th>2</th>\n",
       "      <td>கட்டுப்பாடின்றி சுற்றித் திரியும் குதிரைகளால் ...</td>\n",
       "      <td>கோவை மாவட்டம் மேட்டுப்பாளையம் சாலையில் கட்டுப்...</td>\n",
       "    </tr>\n",
       "    <tr>\n",
       "      <th>3</th>\n",
       "      <td>புதுச்சேரியில் புதிதாக 36 பேருக்கு கரோனா புதுச...</td>\n",
       "      <td>புதுச்சேரியில் ராஜ்நிவாசில் ஆளுநர் கிரண்பேடி உ...</td>\n",
       "    </tr>\n",
       "    <tr>\n",
       "      <th>4</th>\n",
       "      <td>கோவை மாவட்டத்தில் பரவலாக மழை கோவை மாவட்டத்தில்...</td>\n",
       "      <td>கோவை மாவட்டத்தின் பல்வேறு பகுதிகளில் நேற்று பர...</td>\n",
       "    </tr>\n",
       "  </tbody>\n",
       "</table>\n",
       "</div>"
      ],
      "text/plain": [
       "                                           Sumarizer  \\\n",
       "0  படகு கவிழ்ந்து நீரில் தத்தளித்த 3 இளைஞர்கள் மீ...   \n",
       "1                 Test_12-12-2020_ATest_12-12-2020_A   \n",
       "2  கட்டுப்பாடின்றி சுற்றித் திரியும் குதிரைகளால் ...   \n",
       "3  புதுச்சேரியில் புதிதாக 36 பேருக்கு கரோனா புதுச...   \n",
       "4  கோவை மாவட்டத்தில் பரவலாக மழை கோவை மாவட்டத்தில்...   \n",
       "\n",
       "                               Summarized tamil Text  \n",
       "0  திருவள்ளூர் அருகே உள்ள பூண்டி ஏரியில் செல்பி எ...  \n",
       "1                            A t est n e g i s u r a  \n",
       "2  கோவை மாவட்டம் மேட்டுப்பாளையம் சாலையில் கட்டுப்...  \n",
       "3  புதுச்சேரியில் ராஜ்நிவாசில் ஆளுநர் கிரண்பேடி உ...  \n",
       "4  கோவை மாவட்டத்தின் பல்வேறு பகுதிகளில் நேற்று பர...  "
      ]
     },
     "execution_count": 23,
     "metadata": {},
     "output_type": "execute_result"
    }
   ],
   "source": [
    "top_50.head()"
   ]
  },
  {
   "cell_type": "code",
   "execution_count": 24,
   "metadata": {},
   "outputs": [],
   "source": [
    "import os\n",
    "os.chdir(r\"C:\\Users\\50510\\Desktop\")"
   ]
  },
  {
   "cell_type": "code",
   "execution_count": 25,
   "metadata": {},
   "outputs": [],
   "source": [
    "ds = pd.ExcelWriter(\"Hindu_Summaries.xlsx\")\n",
    "\n",
    "top_50.to_excel(ds)\n",
    "\n",
    "ds.book.save(\"Hindu_Summaries.xlsx\")"
   ]
  }
 ],
 "metadata": {
  "kernelspec": {
   "display_name": ".venv",
   "language": "python",
   "name": "python3"
  },
  "language_info": {
   "codemirror_mode": {
    "name": "ipython",
    "version": 3
   },
   "file_extension": ".py",
   "mimetype": "text/x-python",
   "name": "python",
   "nbconvert_exporter": "python",
   "pygments_lexer": "ipython3",
   "version": "3.10.0"
  },
  "orig_nbformat": 4
 },
 "nbformat": 4,
 "nbformat_minor": 2
}
