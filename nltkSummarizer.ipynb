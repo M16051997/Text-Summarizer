{
 "cells": [
  {
   "cell_type": "code",
   "execution_count": 1,
   "metadata": {},
   "outputs": [],
   "source": [
    "import nltk\n",
    "from nltk.corpus import stopwords\n",
    "from nltk.stem import PorterStemmer\n",
    "from nltk.tokenize import word_tokenize, sent_tokenize\n",
    "from langdetect import detect"
   ]
  },
  {
   "cell_type": "code",
   "execution_count": 4,
   "metadata": {},
   "outputs": [],
   "source": [
    "text_str = input(\"Enter the text: \")\n",
    "\n",
    "if (detect(text_str) == 'ta'):\n",
    "    a = []\n",
    "    with open(\"TamilStopWords.txt\", 'r', encoding='utf-8') as f:\n",
    "        a+= f.readlines()\n",
    "    f.close()\n",
    "    for i in range(0, len(a)):\n",
    "        a[i] = a[i].rstrip('\\n')\n",
    "    stopwords = a"
   ]
  },
  {
   "cell_type": "code",
   "execution_count": 2,
   "metadata": {},
   "outputs": [],
   "source": [
    "def _create_freq_table(text) -> dict:\n",
    "    words = word_tokenize(text)\n",
    "    ps = PorterStemmer()\n",
    "\n",
    "    freqTable = dict()\n",
    "    for word in words:\n",
    "        word = ps.stem(word)\n",
    "        if word in stopwords:\n",
    "            continue\n",
    "        if word in freqTable:\n",
    "            freqTable[word] += 1\n",
    "        else:\n",
    "            freqTable[word] = 1\n",
    "    return freqTable"
   ]
  },
  {
   "cell_type": "code",
   "execution_count": null,
   "metadata": {},
   "outputs": [],
   "source": [
    "def _score_sentences(sentences, freqtable) -> dict:\n",
    "    senteceValue = dict()\n",
    "    for sentence in sentences:\n",
    "        word_count_in_sentence = (len(word_tokenize(sentence)))\n",
    "        word_count_in_sentence_except_stop_words = 0\n",
    "\n",
    "        for wordValue in freqtable:\n",
    "            if wordValue in sentence.lower():\n",
    "                word_count_in_sentence_except_stop_words += 1\n",
    "                if sentence in senteceValue:\n",
    "                    senteceValue[sentence] += freqtable[wordValue]\n",
    "                else:\n",
    "                    senteceValue[sentence] = freqtable[wordValue]\n",
    "            \n",
    "        if sentence in senteceValue:\n",
    "                senteceValue[sentence] = senteceValue[sentence] / word_count_in_sentence_except_stop_words\n",
    "    \n",
    "    return senteceValue"
   ]
  },
  {
   "cell_type": "code",
   "execution_count": 6,
   "metadata": {},
   "outputs": [],
   "source": [
    "def _find_avg_score(sentenceValue) -> int:\n",
    "    sumValue = 0\n",
    "\n",
    "    for entry in sentenceValue:\n",
    "        sumValue += sentenceValue[entry]\n",
    "\n",
    "    # Average value of sentence from original text\n",
    "\n",
    "    average = (sumValue / len(sentenceValue))\n",
    "    \n",
    "    return average"
   ]
  },
  {
   "cell_type": "code",
   "execution_count": 7,
   "metadata": {},
   "outputs": [],
   "source": [
    "def _generate_summary(sentences, sentenceValue, threshold):\n",
    "    senetence_count = 0\n",
    "\n",
    "    summary = ' '\n",
    "\n",
    "    for sentence in sentences:\n",
    "        if sentence in sentenceValue and sentenceValue[sentence] >= (threshold):\n",
    "            summary += \" \" + sentence\n",
    "            senetence_count += 1\n",
    "    return summary"
   ]
  },
  {
   "cell_type": "code",
   "execution_count": null,
   "metadata": {},
   "outputs": [],
   "source": []
  }
 ],
 "metadata": {
  "kernelspec": {
   "display_name": ".venv",
   "language": "python",
   "name": "python3"
  },
  "language_info": {
   "codemirror_mode": {
    "name": "ipython",
    "version": 3
   },
   "file_extension": ".py",
   "mimetype": "text/x-python",
   "name": "python",
   "nbconvert_exporter": "python",
   "pygments_lexer": "ipython3",
   "version": "3.10.0"
  }
 },
 "nbformat": 4,
 "nbformat_minor": 2
}
